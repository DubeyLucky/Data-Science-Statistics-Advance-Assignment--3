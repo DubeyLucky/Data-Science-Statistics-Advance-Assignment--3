{
 "cells": [
  {
   "cell_type": "markdown",
   "id": "0667b76b",
   "metadata": {},
   "source": [
    "Q1: What is Estimation Statistics? Explain point estimate and interval estimate."
   ]
  },
  {
   "cell_type": "markdown",
   "id": "222df149",
   "metadata": {},
   "source": [
    "Estimation statistics is a branch of statistics concerned with making inferences about population parameters based on sample data. It involves using sample statistics to estimate unknown population parameters. Two common approaches to estimation in statistics are point estimation and interval estimation.\n",
    "\n",
    "1. **Point Estimate**:\n",
    "   - A point estimate is a single value used to estimate an unknown population parameter. \n",
    "   - It is typically computed from sample data and serves as the best guess or approximation of the true parameter value.\n",
    "   - For example, if we are interested in estimating the population mean (\\(\\mu\\)) based on a sample mean (\\(\\bar{x}\\)), then the sample mean (\\(\\bar{x}\\)) serves as the point estimate for the population mean (\\(\\mu\\)).\n",
    "\n",
    "2. **Interval Estimate**:\n",
    "   - An interval estimate, also known as a confidence interval, provides a range of plausible values for the unknown population parameter.\n",
    "   - It consists of a lower bound and an upper bound, typically computed from sample data along with a specified level of confidence.\n",
    "   - The confidence level reflects the probability that the interval estimate contains the true population parameter.\n",
    "   - For example, a 95% confidence interval for the population mean (\\(\\mu\\)) would consist of a range of values within which we are 95% confident that the true population mean lies.\n",
    "\n",
    "In summary, estimation statistics involves using sample data to estimate unknown population parameters. Point estimates provide single value approximations of the parameters, while interval estimates provide ranges of values that are likely to contain the true parameter value with a specified level of confidence. Both point estimates and interval estimates are important tools in statistical inference for making informed decisions and drawing conclusions about populations based on sample data."
   ]
  },
  {
   "cell_type": "markdown",
   "id": "10f31767",
   "metadata": {},
   "source": [
    "Q2. Write a Python function to estimate the population mean using a sample mean and standard\n",
    "deviation."
   ]
  },
  {
   "cell_type": "code",
   "execution_count": 1,
   "id": "d27f066d",
   "metadata": {},
   "outputs": [
    {
     "name": "stdout",
     "output_type": "stream",
     "text": [
      "Estimated population mean: 50.0\n"
     ]
    }
   ],
   "source": [
    "def estimate_population_mean(sample_mean, sample_std_dev, sample_size):\n",
    "    \"\"\"\n",
    "    Estimate the population mean using sample statistics.\n",
    "    \n",
    "    Args:\n",
    "    sample_mean (float): The mean of the sample.\n",
    "    sample_std_dev (float): The standard deviation of the sample.\n",
    "    sample_size (int): The size of the sample.\n",
    "    \n",
    "    Returns:\n",
    "    float: Estimated population mean.\n",
    "    \"\"\"\n",
    "    import math\n",
    "    \n",
    "    # Calculate the standard error (standard deviation of the sampling distribution of the mean)\n",
    "    standard_error = sample_std_dev / math.sqrt(sample_size)\n",
    "    \n",
    "    # Use the sample mean as the point estimate of the population mean\n",
    "    population_mean = sample_mean\n",
    "    \n",
    "    return population_mean\n",
    "\n",
    "# Example usage:\n",
    "sample_mean = 50.0\n",
    "sample_std_dev = 10.0\n",
    "sample_size = 100\n",
    "estimated_population_mean = estimate_population_mean(sample_mean, sample_std_dev, sample_size)\n",
    "print(\"Estimated population mean:\", estimated_population_mean)\n"
   ]
  },
  {
   "cell_type": "markdown",
   "id": "dad43d52",
   "metadata": {},
   "source": [
    "Q3: What is Hypothesis testing? Why is it used? State the importance of Hypothesis testing."
   ]
  },
  {
   "cell_type": "markdown",
   "id": "4efa2075",
   "metadata": {},
   "source": [
    "Hypothesis testing is a statistical method used to make inferences about a population based on sample data. It involves evaluating two competing hypotheses about a population parameter: the null hypothesis (\\(H_0\\)) and the alternative hypothesis (\\(H_a\\) or \\(H_1\\)). The goal is to assess the evidence provided by the sample data and determine whether there is enough evidence to reject the null hypothesis in favor of the alternative hypothesis.\n",
    "\n",
    "The null hypothesis (\\(H_0\\)) typically represents a default or status quo assumption, while the alternative hypothesis (\\(H_a\\) or \\(H_1\\)) represents the claim or effect we are interested in testing. Hypothesis testing involves calculating a test statistic from the sample data and comparing it to a critical value or p-value to make a decision about whether to reject the null hypothesis.\n",
    "\n",
    "Hypothesis testing is used for several reasons:\n",
    "\n",
    "1. **Inference about Population Parameters**: Hypothesis testing allows us to make inferences about population parameters based on sample data. For example, we can test hypotheses about population means, proportions, variances, etc.\n",
    "\n",
    "2. **Decision Making**: Hypothesis testing provides a formal framework for making decisions in situations where we want to determine whether a claim or effect is statistically significant. It helps in making informed decisions based on evidence from the data.\n",
    "\n",
    "3. **Validation of Theories and Assumptions**: Hypothesis testing is used to test theories, hypotheses, or assumptions about the population. By subjecting these hypotheses to empirical scrutiny, we can validate or refute them based on the evidence provided by the data.\n",
    "\n",
    "4. **Quality Control and Process Improvement**: In fields such as manufacturing and healthcare, hypothesis testing is used to assess the effectiveness of process improvements or interventions. It helps organizations determine whether changes made to a process have resulted in a significant improvement or not.\n",
    "\n",
    "5. **Scientific Research**: In scientific research, hypothesis testing is a fundamental tool for testing research hypotheses and drawing conclusions about the relationships between variables or the effects of treatments.\n",
    "\n",
    "The importance of hypothesis testing lies in its ability to provide a systematic and rigorous approach to decision making based on empirical evidence. It allows researchers, practitioners, and decision-makers to draw reliable conclusions from data, leading to more informed and evidence-based decisions."
   ]
  },
  {
   "cell_type": "markdown",
   "id": "6b1d0bfc",
   "metadata": {},
   "source": [
    "Q4. Create a hypothesis that states whether the average weight of male college students is greater than\n",
    "the average weight of female college students."
   ]
  },
  {
   "cell_type": "markdown",
   "id": "fc29ba1e",
   "metadata": {},
   "source": [
    "Certainly! Here's a hypothesis statement regarding the average weight of male college students compared to female college students:\n",
    "\n",
    "**Null Hypothesis (\\(H_0\\)):** The average weight of male college students is equal to or less than the average weight of female college students.\n",
    "\n",
    "**Alternative Hypothesis (\\(H_a\\) or \\(H_1\\)):** The average weight of male college students is greater than the average weight of female college students.\n",
    "\n",
    "Symbolically:\n",
    "\n",
    "\\(H_0: \\mu_{\\text{male}} \\leq \\mu_{\\text{female}}\\)\n",
    "\n",
    "\\(H_a: \\mu_{\\text{male}} > \\mu_{\\text{female}}\\)\n",
    "\n",
    "In words, the null hypothesis suggests that there is no significant difference or that male college students on average weigh the same as or less than female college students. The alternative hypothesis proposes that male college students, on average, weigh more than female college students.\n",
    "\n",
    "This hypothesis could be tested using appropriate statistical methods, such as a one-tailed t-test or a confidence interval comparison, using data on the weights of male and female college students sampled from the population of interest."
   ]
  },
  {
   "cell_type": "markdown",
   "id": "da8fcca3",
   "metadata": {},
   "source": [
    "Q5. Write a Python script to conduct a hypothesis test on the difference between two population means,\n",
    "given a sample from each population."
   ]
  },
  {
   "cell_type": "code",
   "execution_count": 3,
   "id": "32295881",
   "metadata": {},
   "outputs": [
    {
     "name": "stdout",
     "output_type": "stream",
     "text": [
      "T-Statistic: 4.868831938298408\n",
      "P-Value: 1.1489144190358094e-05\n",
      "Reject the null hypothesis (H0: μ1 = μ2) in favor of the alternative hypothesis.\n"
     ]
    }
   ],
   "source": [
    "import numpy as np\n",
    "from scipy.stats import ttest_ind\n",
    "\n",
    "def two_sample_t_test(sample1, sample2, alpha=0.05):\n",
    "    \"\"\"\n",
    "    Perform a two-sample t-test to compare the means of two populations.\n",
    "    \n",
    "    Args:\n",
    "    sample1 (array-like): Sample data from population 1.\n",
    "    sample2 (array-like): Sample data from population 2.\n",
    "    alpha (float, optional): Significance level. Default is 0.05.\n",
    "    \n",
    "    Returns:\n",
    "    tuple: t-statistic, p-value\n",
    "    \"\"\"\n",
    "    # Perform the t-test\n",
    "    t_statistic, p_value = ttest_ind(sample1, sample2, equal_var=False)\n",
    "    \n",
    "    # Print the results\n",
    "    print(\"T-Statistic:\", t_statistic)\n",
    "    print(\"P-Value:\", p_value)\n",
    "    \n",
    "    # Compare p-value with alpha\n",
    "    if p_value < alpha:\n",
    "        print(\"Reject the null hypothesis (H0: μ1 = μ2) in favor of the alternative hypothesis.\")\n",
    "    else:\n",
    "        print(\"Fail to reject the null hypothesis (H0: μ1 = μ2).\")\n",
    "\n",
    "# Example usage:\n",
    "# Generate sample data for two populations\n",
    "np.random.seed(0)  # For reproducibility\n",
    "sample1 = np.random.normal(loc=50, scale=10, size=30)  # Sample data from population 1\n",
    "sample2 = np.random.normal(loc=45, scale=8, size=30)   # Sample data from population 2\n",
    "\n",
    "# Perform the two-sample t-test\n",
    "two_sample_t_test(sample1, sample2)\n"
   ]
  },
  {
   "cell_type": "markdown",
   "id": "7054e414",
   "metadata": {},
   "source": [
    "Q6: What is a null and alternative hypothesis? Give some examples."
   ]
  },
  {
   "cell_type": "markdown",
   "id": "e95f138b",
   "metadata": {},
   "source": [
    "The null hypothesis (\\(H_0\\)) and alternative hypothesis (\\(H_a\\) or \\(H_1\\)) are two complementary statements used in hypothesis testing to make inferences about population parameters based on sample data.\n",
    "\n",
    "1. **Null Hypothesis (\\(H_0\\))**:\n",
    "   - The null hypothesis represents the default or status quo assumption. It suggests that there is no significant difference or effect, or that any observed difference is due to random variation.\n",
    "   - In hypothesis testing, the null hypothesis is typically the hypothesis that researchers aim to test or potentially reject.\n",
    "   - Symbolically, the null hypothesis is often denoted as \\(H_0\\).\n",
    "\n",
    "2. **Alternative Hypothesis (\\(H_a\\) or \\(H_1\\))**:\n",
    "   - The alternative hypothesis represents the claim or effect that researchers are interested in testing. It proposes that there is a significant difference or effect in the population.\n",
    "   - The alternative hypothesis can take different forms depending on the nature of the research question, such as one-tailed or two-tailed alternatives.\n",
    "   - Symbolically, the alternative hypothesis is often denoted as \\(H_a\\) or \\(H_1\\).\n",
    "\n",
    "Here are some examples to illustrate the concepts of null and alternative hypotheses:\n",
    "\n",
    "1. **Example 1 (Mean Comparison)**:\n",
    "   - Null Hypothesis (\\(H_0\\)): The mean IQ score of students who followed a traditional teaching method is equal to 100.\n",
    "   - Alternative Hypothesis (\\(H_a\\)): The mean IQ score of students who followed a new teaching method is greater than 100.\n",
    "\n",
    "2. **Example 2 (Proportion Comparison)**:\n",
    "   - Null Hypothesis (\\(H_0\\)): The proportion of voters who support Candidate A is 0.5 (50%).\n",
    "   - Alternative Hypothesis (\\(H_a\\)): The proportion of voters who support Candidate A is different from 0.5 (50%).\n",
    "\n",
    "3. **Example 3 (Equality of Variances)**:\n",
    "   - Null Hypothesis (\\(H_0\\)): The variance of test scores from two different schools is equal.\n",
    "   - Alternative Hypothesis (\\(H_a\\)): The variance of test scores from two different schools is not equal.\n",
    "\n",
    "In each example, the null hypothesis states a default assumption or equality, while the alternative hypothesis proposes a specific difference or effect that the researcher is interested in testing. The conclusion about whether to reject the null hypothesis is based on the evidence provided by the sample data and the chosen significance level."
   ]
  },
  {
   "cell_type": "markdown",
   "id": "c465774d",
   "metadata": {},
   "source": [
    "Q7: Write down the steps involved in hypothesis testing."
   ]
  },
  {
   "cell_type": "markdown",
   "id": "eb098b71",
   "metadata": {},
   "source": [
    "Hypothesis testing is a systematic process used to make inferences about population parameters based on sample data. The following are the general steps involved in hypothesis testing:\n",
    "\n",
    "1. **Formulate Hypotheses**:\n",
    "   - Clearly state the null hypothesis (\\(H_0\\)) and the alternative hypothesis (\\(H_a\\) or \\(H_1\\)).\n",
    "   - Define the population parameters of interest and the specific claim or effect being tested.\n",
    "\n",
    "2. **Select Significance Level (\\(\\alpha\\))**:\n",
    "   - Choose the significance level (\\(\\alpha\\)), which represents the probability of rejecting the null hypothesis when it is actually true.\n",
    "   - Common significance levels include 0.05 (5%), 0.01 (1%), or other predetermined values.\n",
    "\n",
    "3. **Select Test Statistic**:\n",
    "   - Choose an appropriate test statistic based on the sample data and the hypothesis being tested.\n",
    "   - The choice of test statistic depends on factors such as the type of data (e.g., mean, proportion) and the hypothesis being tested.\n",
    "\n",
    "4. **Collect Sample Data**:\n",
    "   - Collect data from the population of interest through random sampling or other appropriate methods.\n",
    "   - Ensure that the sample size is sufficient to provide reliable results and meet the assumptions of the chosen hypothesis test.\n",
    "\n",
    "5. **Compute Test Statistic**:\n",
    "   - Calculate the value of the test statistic using the sample data and the chosen test statistic formula.\n",
    "   - The test statistic measures the difference or effect observed in the sample relative to what would be expected under the null hypothesis.\n",
    "\n",
    "6. **Determine Critical Region**:\n",
    "   - Determine the critical region or rejection region based on the chosen significance level (\\(\\alpha\\)) and the sampling distribution of the test statistic.\n",
    "   - The critical region represents the set of values of the test statistic that would lead to rejection of the null hypothesis.\n",
    "\n",
    "7. **Make Decision**:\n",
    "   - Compare the calculated test statistic to the critical value(s) or calculate the p-value associated with the test statistic.\n",
    "   - If the test statistic falls within the critical region or the p-value is less than the significance level (\\(\\alpha\\)), reject the null hypothesis.\n",
    "   - If the test statistic does not fall within the critical region or the p-value is greater than the significance level, fail to reject the null hypothesis.\n",
    "\n",
    "8. **Draw Conclusion**:\n",
    "   - Based on the decision made in step 7, draw a conclusion about the null hypothesis.\n",
    "   - If the null hypothesis is rejected, conclude that there is sufficient evidence to support the alternative hypothesis.\n",
    "   - If the null hypothesis is not rejected, conclude that there is not enough evidence to support the alternative hypothesis.\n",
    "\n",
    "9. **Interpret Results**:\n",
    "   - Interpret the results of the hypothesis test in the context of the research question and the specific hypothesis being tested.\n",
    "   - Consider the practical significance of the findings and their implications for decision-making or further research.\n",
    "\n",
    "These steps provide a structured approach to hypothesis testing, ensuring that conclusions drawn from sample data are based on sound statistical principles and rigorous reasoning."
   ]
  },
  {
   "cell_type": "markdown",
   "id": "494790e1",
   "metadata": {},
   "source": [
    "Q8. Define p-value and explain its significance in hypothesis testing."
   ]
  },
  {
   "cell_type": "markdown",
   "id": "31f32734",
   "metadata": {},
   "source": [
    "The p-value, or probability value, is a measure that quantifies the strength of evidence against the null hypothesis (\\(H_0\\)) in hypothesis testing. It represents the probability of observing a test statistic as extreme as, or more extreme than, the one computed from the sample data, assuming that the null hypothesis is true.\n",
    "\n",
    "In other words, the p-value indicates the likelihood of obtaining the observed results (or more extreme results) if the null hypothesis is correct. A small p-value suggests that the observed results are unlikely to occur under the null hypothesis, providing evidence against it. Conversely, a large p-value suggests that the observed results are more likely to occur by chance, and there is insufficient evidence to reject the null hypothesis.\n",
    "\n",
    "The significance of the p-value in hypothesis testing can be summarized as follows:\n",
    "\n",
    "1. **Decision Rule**:\n",
    "   - In hypothesis testing, the p-value is compared to the chosen significance level (\\(\\alpha\\)) to make a decision about whether to reject the null hypothesis.\n",
    "   - If the p-value is less than or equal to the significance level (\\(p \\leq \\alpha\\)), the null hypothesis is rejected.\n",
    "   - If the p-value is greater than the significance level (\\(p > \\alpha\\)), the null hypothesis is not rejected.\n",
    "\n",
    "2. **Strength of Evidence**:\n",
    "   - The smaller the p-value, the stronger the evidence against the null hypothesis. A small p-value suggests that the observed results are unlikely to occur by random chance alone, providing stronger support for the alternative hypothesis.\n",
    "   - Conversely, a large p-value indicates that the observed results are more likely to occur by random chance, leading to a weaker rejection of the null hypothesis.\n",
    "\n",
    "3. **Interpretation**:\n",
    "   - The p-value provides a quantitative measure of the significance of the observed results in relation to the null hypothesis.\n",
    "   - Researchers can use the p-value to interpret the practical implications of their findings and to draw conclusions about the null hypothesis.\n",
    "\n",
    "4. **Uncertainty**:\n",
    "   - It's important to note that the p-value does not provide direct evidence in favor of the alternative hypothesis. Instead, it quantifies the uncertainty associated with the null hypothesis.\n",
    "   - A significant result (small p-value) indicates that the observed results are inconsistent with what would be expected under the null hypothesis, but it does not prove the truth of the alternative hypothesis.\n",
    "\n",
    "Overall, the p-value plays a critical role in hypothesis testing by providing a standardized measure of the strength of evidence against the null hypothesis. It helps researchers make informed decisions about the validity of their hypotheses based on the observed data."
   ]
  },
  {
   "cell_type": "markdown",
   "id": "2c070d01",
   "metadata": {},
   "source": [
    "Q9. Generate a Student's t-distribution plot using Python's matplotlib library, with the degrees of freedom\n",
    "parameter set to 10."
   ]
  },
  {
   "cell_type": "code",
   "execution_count": 4,
   "id": "5a12c9a3",
   "metadata": {},
   "outputs": [
    {
     "data": {
      "image/png": "[encoded data removed]",
      "text/plain": [
       "<Figure size 640x480 with 1 Axes>"
      ]
     },
     "metadata": {},
     "output_type": "display_data"
    }
   ],
   "source": [
    "import numpy as np\n",
    "import matplotlib.pyplot as plt\n",
    "from scipy.stats import t\n",
    "\n",
    "# Define the range of x values\n",
    "x = np.linspace(-5, 5, 1000)\n",
    "\n",
    "# Calculate the probability density function (PDF) for the Student's t-distribution\n",
    "df = 10  # degrees of freedom\n",
    "pdf = t.pdf(x, df)\n",
    "\n",
    "# Plot the PDF\n",
    "plt.plot(x, pdf, label='t-distribution (df=10)')\n",
    "plt.title(\"Student's t-distribution (df=10)\")\n",
    "plt.xlabel('x')\n",
    "plt.ylabel('Probability Density')\n",
    "plt.legend()\n",
    "plt.grid(True)\n",
    "plt.show()\n"
   ]
  },
  {
   "cell_type": "markdown",
   "id": "c6b91c16",
   "metadata": {},
   "source": [
    "Q10. Write a Python program to calculate the two-sample t-test for independent samples, given two\n",
    "random samples of equal size and a null hypothesis that the population means are equal."
   ]
  },
  {
   "cell_type": "code",
   "execution_count": 5,
   "id": "42e070e6",
   "metadata": {},
   "outputs": [
    {
     "name": "stdout",
     "output_type": "stream",
     "text": [
      "T-Statistic: 4.71838087944555\n",
      "P-Value: 1.54193783000019e-05\n",
      "Reject the null hypothesis (H0: μ1 = μ2) in favor of the alternative hypothesis.\n"
     ]
    }
   ],
   "source": [
    "import numpy as np\n",
    "from scipy.stats import ttest_ind\n",
    "\n",
    "def two_sample_t_test(sample1, sample2, alpha=0.05):\n",
    "    \"\"\"\n",
    "    Perform a two-sample t-test for independent samples.\n",
    "    \n",
    "    Args:\n",
    "    sample1 (array-like): Sample data from the first population.\n",
    "    sample2 (array-like): Sample data from the second population.\n",
    "    alpha (float, optional): Significance level. Default is 0.05.\n",
    "    \n",
    "    Returns:\n",
    "    tuple: t-statistic, p-value\n",
    "    \"\"\"\n",
    "    # Perform the t-test\n",
    "    t_statistic, p_value = ttest_ind(sample1, sample2, equal_var=True)\n",
    "    \n",
    "    # Print the results\n",
    "    print(\"T-Statistic:\", t_statistic)\n",
    "    print(\"P-Value:\", p_value)\n",
    "    \n",
    "    # Compare p-value with alpha\n",
    "    if p_value < alpha:\n",
    "        print(\"Reject the null hypothesis (H0: μ1 = μ2) in favor of the alternative hypothesis.\")\n",
    "    else:\n",
    "        print(\"Fail to reject the null hypothesis (H0: μ1 = μ2).\")\n",
    "\n",
    "# Generate two random samples of equal size\n",
    "np.random.seed(0)  # For reproducibility\n",
    "sample_size = 30\n",
    "sample1 = np.random.normal(loc=50, scale=10, size=sample_size)  # Sample data from population 1\n",
    "sample2 = np.random.normal(loc=45, scale=10, size=sample_size)  # Sample data from population 2\n",
    "\n",
    "# Perform the two-sample t-test\n",
    "two_sample_t_test(sample1, sample2)\n"
   ]
  },
  {
   "cell_type": "markdown",
   "id": "19744e02",
   "metadata": {},
   "source": [
    "Q11: What is Student’s t distribution? When to use the t-Distribution."
   ]
  },
  {
   "cell_type": "markdown",
   "id": "e4034544",
   "metadata": {},
   "source": [
    "Student's t-distribution, often referred to simply as the t-distribution, is a probability distribution that is symmetric and bell-shaped, similar to the normal distribution. It is used primarily in inferential statistics to make inferences about population parameters when the sample size is small or when the population standard deviation is unknown.\n",
    "\n",
    "The t-distribution is characterized by a single parameter, known as the degrees of freedom (\\(df\\)). The shape of the t-distribution depends on the degrees of freedom, with larger degrees of freedom leading to distributions that closely resemble the standard normal distribution (Z-distribution).\n",
    "\n",
    "Here are some key points about the t-distribution and when to use it:\n",
    "\n",
    "1. **Characteristics**:\n",
    "   - The t-distribution is symmetric and bell-shaped, like the normal distribution.\n",
    "   - As the degrees of freedom increase, the t-distribution approaches the standard normal distribution (Z-distribution).\n",
    "   - The mean of the t-distribution is typically zero, and its variance depends on the degrees of freedom.\n",
    "\n",
    "2. **When to Use**:\n",
    "   - **Small Sample Sizes**: The t-distribution is especially useful when dealing with small sample sizes (typically n < 30) where the population standard deviation is unknown.\n",
    "   - **Unknown Population Standard Deviation**: When the population standard deviation is unknown and must be estimated from the sample data, the t-distribution is used instead of the normal distribution.\n",
    "   - **Estimation and Inference**: The t-distribution is commonly used in hypothesis testing and confidence interval estimation for population means when dealing with small samples.\n",
    "\n",
    "3. **Applications**:\n",
    "   - **Comparing Means**: When comparing means of two independent samples or performing a one-sample t-test to compare a sample mean to a known or hypothesized population mean.\n",
    "   - **Estimating Confidence Intervals**: When estimating confidence intervals for population means or differences in means.\n",
    "\n",
    "4. **Robustness**:\n",
    "   - The t-distribution is more robust than the normal distribution when dealing with outliers or non-normal data, especially with small sample sizes.\n",
    "   - It provides more accurate inference when the assumptions of normality and equal variances are not fully met.\n",
    "\n",
    "In summary, the t-distribution is a key statistical tool used in situations where the population standard deviation is unknown and the sample size is small. It provides a more accurate and reliable framework for making inferences about population parameters in such scenarios, particularly in hypothesis testing and confidence interval estimation."
   ]
  },
  {
   "cell_type": "markdown",
   "id": "5462c088",
   "metadata": {},
   "source": [
    "Q12: What is t-statistic? State the formula for t-statistic."
   ]
  },
  {
   "cell_type": "markdown",
   "id": "8aaeaf01",
   "metadata": {},
   "source": [
    "The t-statistic is a measure that quantifies the difference between the sample statistic (such as the sample mean) and the population parameter (such as the population mean), relative to the variability observed in the sample data. It is used primarily in hypothesis testing to assess whether the observed difference is statistically significant.\n",
    "\n",
    "The formula for the t-statistic depends on the specific context and hypothesis being tested. However, the general formula for the t-statistic when comparing a sample mean to a population mean (or comparing two sample means) is as follows:\n",
    "\n",
    "\\[ t = \\frac{\\bar{x} - \\mu}{\\frac{s}{\\sqrt{n}}} \\]\n",
    "\n",
    "Where:\n",
    "- \\( \\bar{x} \\) is the sample mean.\n",
    "- \\( \\mu \\) is the population mean (or the hypothesized population mean under the null hypothesis).\n",
    "- \\( s \\) is the sample standard deviation.\n",
    "- \\( n \\) is the sample size.\n",
    "\n",
    "This formula calculates the difference between the sample mean (\\( \\bar{x} \\)) and the population mean (\\( \\mu \\)), expressed in terms of the standard error of the sample mean (\\( \\frac{s}{\\sqrt{n}} \\)). The standard error reflects the variability in sample means that would be expected under repeated sampling from the population.\n",
    "\n",
    "The t-statistic measures how many standard errors the sample mean is away from the population mean. A larger absolute value of the t-statistic indicates a greater difference between the sample mean and the population mean, relative to the variability observed in the sample data.\n",
    "\n",
    "In hypothesis testing, the t-statistic is compared to a critical value from the t-distribution or used to calculate a p-value, which helps determine whether to reject the null hypothesis in favor of the alternative hypothesis. If the absolute value of the t-statistic is large enough (i.e., exceeds the critical value or results in a small p-value), the difference between the sample mean and the population mean is considered statistically significant, leading to rejection of the null hypothesis."
   ]
  },
  {
   "cell_type": "markdown",
   "id": "d9ada568",
   "metadata": {},
   "source": [
    "Q13. A coffee shop owner wants to estimate the average daily revenue for their shop. They take a random\n",
    "sample of 50 days and find the sample mean revenue to be $500 with a standard deviation of $50.\n",
    "Estimate the population mean revenue with a 95% confidence interval."
   ]
  },
  {
   "cell_type": "markdown",
   "id": "6cf41c21",
   "metadata": {},
   "source": [
    "To estimate the population mean revenue with a 95% confidence interval, we can use the formula for the confidence interval for the population mean when the population standard deviation is unknown. The formula is:\n",
    "\n",
    "\\[ \\text{Confidence Interval} = \\bar{x} \\pm t \\times \\frac{s}{\\sqrt{n}} \\]\n",
    "\n",
    "Where:\n",
    "- \\( \\bar{x} \\) is the sample mean.\n",
    "- \\( s \\) is the sample standard deviation.\n",
    "- \\( n \\) is the sample size.\n",
    "- \\( t \\) is the critical value from the t-distribution for the desired confidence level and degrees of freedom.\n",
    "\n",
    "Given:\n",
    "- Sample mean (\\( \\bar{x} \\)) = $500\n",
    "- Sample standard deviation (\\( s \\)) = $50\n",
    "- Sample size (\\( n \\)) = 50\n",
    "- Confidence level = 95%\n",
    "\n",
    "We need to find the critical value \\( t \\) for a 95% confidence level with \\( n - 1 \\) degrees of freedom (where \\( n \\) is the sample size). Then we can plug in the values into the formula to calculate the confidence interval.\n",
    "\n",
    "Let's calculate it step by step:\n",
    "\n",
    "1. **Find the Critical Value \\( t \\)**:\n",
    "   - We need to find the critical value from the t-distribution for a 95% confidence level and \\( n - 1 = 50 - 1 = 49 \\) degrees of freedom.\n",
    "   - We can find this using statistical software or a t-distribution table. For a 95% confidence level and 49 degrees of freedom, \\( t \\) is approximately 2.0096.\n",
    "\n",
    "2. **Calculate the Confidence Interval**:\n",
    "   - \\( \\text{Confidence Interval} = 500 \\pm 2.0096 \\times \\frac{50}{\\sqrt{50}} \\)\n",
    "\n",
    "Let's calculate the confidence interval:\n",
    "\n",
    "\\[ \\text{Confidence Interval} = 500 \\pm 2.0096 \\times \\frac{50}{\\sqrt{50}} \\]\n",
    "\n",
    "\\[ \\text{Confidence Interval} = 500 \\pm 2.0096 \\times \\frac{50}{\\sqrt{50}} \\]\n",
    "\n",
    "\\[ \\text{Confidence Interval} = 500 \\pm 14.234 \\]\n",
    "\n",
    "So, the 95% confidence interval for the population mean revenue is approximately \\( \\$500 \\pm \\$14.234 \\), or from approximately \\$485.766 to \\$514.234."
   ]
  },
  {
   "cell_type": "markdown",
   "id": "7515a1ae",
   "metadata": {},
   "source": [
    "Q14. A researcher hypothesizes that a new drug will decrease blood pressure by 10 mmHg. They conduct a\n",
    "clinical trial with 100 patients and find that the sample mean decrease in blood pressure is 8 mmHg with a\n",
    "standard deviation of 3 mmHg. Test the hypothesis with a significance level of 0.05."
   ]
  },
  {
   "cell_type": "markdown",
   "id": "5d26fbb8",
   "metadata": {},
   "source": [
    "To test the hypothesis that the new drug decreases blood pressure by 10 mmHg, we can perform a one-sample t-test. The null and alternative hypotheses are as follows:\n",
    "\n",
    "- Null Hypothesis (\\(H_0\\)): The mean decrease in blood pressure (\\( \\mu \\)) is equal to 10 mmHg.\n",
    "- Alternative Hypothesis (\\(H_a\\)): The mean decrease in blood pressure (\\( \\mu \\)) is less than 10 mmHg.\n",
    "\n",
    "Given:\n",
    "- Sample mean (\\( \\bar{x} \\)) = 8 mmHg\n",
    "- Sample standard deviation (\\( s \\)) = 3 mmHg\n",
    "- Sample size (\\( n \\)) = 100\n",
    "- Significance level (\\( \\alpha \\)) = 0.05\n",
    "\n",
    "We can calculate the t-statistic using the formula:\n",
    "\n",
    "\\[ t = \\frac{\\bar{x} - \\mu_0}{\\frac{s}{\\sqrt{n}}} \\]\n",
    "\n",
    "where \\( \\mu_0 \\) is the hypothesized population mean under the null hypothesis.\n",
    "\n",
    "Then, we compare the calculated t-statistic to the critical value from the t-distribution with \\( n - 1 \\) degrees of freedom (99 degrees of freedom in this case) at the chosen significance level (\\( \\alpha = 0.05 \\)).\n",
    "\n",
    "If the calculated t-statistic falls in the critical region (i.e., if \\( t < -t_{\\alpha, df} \\)), we reject the null hypothesis in favor of the alternative hypothesis.\n",
    "\n",
    "Let's perform the calculation:\n",
    "\n",
    "\\[ t = \\frac{8 - 10}{\\frac{3}{\\sqrt{100}}} \\]\n",
    "\\[ t = \\frac{-2}{0.3} \\]\n",
    "\\[ t = -6.67 \\]\n",
    "\n",
    "We can look up the critical value for a one-tailed test with 99 degrees of freedom and a significance level of 0.05. From a t-distribution table or using statistical software, the critical value is approximately -1.660.\n",
    "\n",
    "Since \\( t = -6.67 < -1.660 \\), we reject the null hypothesis.\n",
    "\n",
    "Therefore, we have sufficient evidence to conclude that the new drug decreases blood pressure by less than 10 mmHg, with a significance level of 0.05."
   ]
  },
  {
   "cell_type": "markdown",
   "id": "3bf0ec09",
   "metadata": {},
   "source": [
    "Q15. An electronics company produces a certain type of product with a mean weight of 5 pounds and a\n",
    "standard deviation of 0.5 pounds. A random sample of 25 products is taken, and the sample mean weight\n",
    "is found to be 4.8 pounds. Test the hypothesis that the true mean weight of the products is less than 5\n",
    "pounds with a significance level of 0.01."
   ]
  },
  {
   "cell_type": "markdown",
   "id": "21e25c61",
   "metadata": {},
   "source": [
    "To test the hypothesis that the true mean weight of the products is less than 5 pounds, we can perform a one-sample t-test. The null and alternative hypotheses are as follows:\n",
    "\n",
    "- Null Hypothesis (\\(H_0\\)): The mean weight of the products (\\( \\mu \\)) is equal to 5 pounds.\n",
    "- Alternative Hypothesis (\\(H_a\\)): The mean weight of the products (\\( \\mu \\)) is less than 5 pounds.\n",
    "\n",
    "Given:\n",
    "- Population mean (\\( \\mu \\)) = 5 pounds\n",
    "- Population standard deviation (\\( \\sigma \\)) = 0.5 pounds\n",
    "- Sample mean (\\( \\bar{x} \\)) = 4.8 pounds\n",
    "- Sample size (\\( n \\)) = 25\n",
    "- Significance level (\\( \\alpha \\)) = 0.01\n",
    "\n",
    "We can calculate the t-statistic using the formula:\n",
    "\n",
    "\\[ t = \\frac{\\bar{x} - \\mu}{\\frac{\\sigma}{\\sqrt{n}}} \\]\n",
    "\n",
    "Then, we compare the calculated t-statistic to the critical value from the t-distribution with \\( n - 1 \\) degrees of freedom (24 degrees of freedom in this case) at the chosen significance level (\\( \\alpha = 0.01 \\)).\n",
    "\n",
    "If the calculated t-statistic falls in the critical region (i.e., if \\( t < -t_{\\alpha, df} \\)), we reject the null hypothesis in favor of the alternative hypothesis.\n",
    "\n",
    "Let's perform the calculation:\n",
    "\n",
    "\\[ t = \\frac{4.8 - 5}{\\frac{0.5}{\\sqrt{25}}} \\]\n",
    "\\[ t = \\frac{-0.2}{0.1} \\]\n",
    "\\[ t = -2 \\]\n",
    "\n",
    "We can look up the critical value for a one-tailed test with 24 degrees of freedom and a significance level of 0.01. From a t-distribution table or using statistical software, the critical value is approximately -2.492.\n",
    "\n",
    "Since \\( t = -2 > -2.492 \\), we fail to reject the null hypothesis.\n",
    "\n",
    "Therefore, we do not have sufficient evidence to conclude that the true mean weight of the products is less than 5 pounds, with a significance level of 0.01."
   ]
  },
  {
   "cell_type": "markdown",
   "id": "3d746bfb",
   "metadata": {},
   "source": [
    "Q16. Two groups of students are given different study materials to prepare for a test. The first group (n1 =\n",
    "30) has a mean score of 80 with a standard deviation of 10, and the second group (n2 = 40) has a mean\n",
    "score of 75 with a standard deviation of 8. Test the hypothesis that the population means for the two\n",
    "groups are equal with a significance level of 0.01."
   ]
  },
  {
   "cell_type": "markdown",
   "id": "3183cd42",
   "metadata": {},
   "source": [
    "To test the hypothesis that the population means for the two groups are equal, we can perform a two-sample t-test for independent samples. The null and alternative hypotheses are as follows:\n",
    "\n",
    "- Null Hypothesis (\\(H_0\\)): The population means for the two groups are equal (\\( \\mu_1 = \\mu_2 \\)).\n",
    "- Alternative Hypothesis (\\(H_a\\)): The population means for the two groups are not equal (\\( \\mu_1 \\neq \\mu_2 \\)).\n",
    "\n",
    "Given:\n",
    "For Group 1:\n",
    "- Sample size (\\(n_1\\)) = 30\n",
    "- Sample mean (\\(\\bar{x}_1\\)) = 80\n",
    "- Sample standard deviation (\\(s_1\\)) = 10\n",
    "\n",
    "For Group 2:\n",
    "- Sample size (\\(n_2\\)) = 40\n",
    "- Sample mean (\\(\\bar{x}_2\\)) = 75\n",
    "- Sample standard deviation (\\(s_2\\)) = 8\n",
    "\n",
    "Significance level (\\( \\alpha \\)) = 0.01\n",
    "\n",
    "We can calculate the t-statistic for the two-sample t-test using the formula:\n",
    "\n",
    "\\[ t = \\frac{(\\bar{x}_1 - \\bar{x}_2) - (\\mu_1 - \\mu_2)}{\\sqrt{\\frac{s_1^2}{n_1} + \\frac{s_2^2}{n_2}}} \\]\n",
    "\n",
    "Then, we compare the absolute value of the calculated t-statistic to the critical value from the t-distribution with degrees of freedom determined by the Welch-Satterthwaite equation, and at the chosen significance level (\\( \\alpha = 0.01 \\)).\n",
    "\n",
    "If the absolute value of the calculated t-statistic exceeds the critical value, we reject the null hypothesis in favor of the alternative hypothesis.\n",
    "\n",
    "Let's perform the calculation:\n",
    "\n",
    "\\[ t = \\frac{(80 - 75) - (0)}{\\sqrt{\\frac{10^2}{30} + \\frac{8^2}{40}}} \\]\n",
    "\\[ t = \\frac{5 - 0}{\\sqrt{\\frac{100}{30} + \\frac{64}{40}}} \\]\n",
    "\\[ t = \\frac{5}{\\sqrt{3.333 + 1.6}} \\]\n",
    "\\[ t ≈ \\frac{5}{\\sqrt{4.933}} \\]\n",
    "\\[ t ≈ \\frac{5}{2.221} \\]\n",
    "\\[ t ≈ 2.252 \\]\n",
    "\n",
    "The critical value for a two-tailed test with 30 and 40 degrees of freedom and a significance level of 0.01 is approximately 2.660 (obtained from a t-distribution table or using statistical software).\n",
    "\n",
    "Since \\( |t| = 2.252 < 2.660 \\), we fail to reject the null hypothesis.\n",
    "\n",
    "Therefore, we do not have sufficient evidence to conclude that the population means for the two groups are different, with a significance level of 0.01."
   ]
  },
  {
   "cell_type": "markdown",
   "id": "435952b9",
   "metadata": {},
   "source": [
    "Q17. A marketing company wants to estimate the average number of ads watched by viewers during a TV\n",
    "program. They take a random sample of 50 viewers and find that the sample mean is 4 with a standard\n",
    "deviation of 1.5. Estimate the population mean with a 99% confidence interval."
   ]
  },
  {
   "cell_type": "code",
   "execution_count": null,
   "id": "0657875c",
   "metadata": {},
   "outputs": [],
   "source": []
  }
 ],
 "metadata": {
  "kernelspec": {
   "display_name": "Python 3 (ipykernel)",
   "language": "python",
   "name": "python3"
  },
  "language_info": {
   "codemirror_mode": {
    "name": "ipython",
    "version": 3
   },
   "file_extension": ".py",
   "mimetype": "text/x-python",
   "name": "python",
   "nbconvert_exporter": "python",
   "pygments_lexer": "ipython3",
   "version": "3.10.9"
  }
 },
 "nbformat": 4,
 "nbformat_minor": 5
}
